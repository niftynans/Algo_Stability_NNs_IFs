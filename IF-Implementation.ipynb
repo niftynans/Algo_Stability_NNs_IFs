{
 "cells": [
  {
   "cell_type": "markdown",
   "id": "dying-cedar",
   "metadata": {},
   "source": [
    "## Credits: Matthew Mcateer -- https://matthewmcateer.me/blog/basics-of-influence-functions/"
   ]
  },
  {
   "cell_type": "code",
   "execution_count": 2,
   "id": "incorporate-region",
   "metadata": {},
   "outputs": [],
   "source": [
    "import matplotlib.pyplot as plt\n",
    "# import tensorflow as tf\n",
    "\n",
    "import tensorflow.compat.v1 as tf\n",
    "tf.disable_v2_behavior()\n",
    "\n",
    "import numpy as np\n",
    "%config InlineBackend.figure_format = 'retina'"
   ]
  },
  {
   "cell_type": "markdown",
   "id": "received-bankruptcy",
   "metadata": {},
   "source": [
    "## Linear Model"
   ]
  },
  {
   "cell_type": "code",
   "execution_count": null,
   "id": "otherwise-assignment",
   "metadata": {},
   "outputs": [],
   "source": [
    "# class LinearModel:\n",
    "    \n",
    "#     def __init__(self, data, target):\n",
    "#         self.data = data\n",
    "#         self.target = target\n",
    "#         self._prediction = None\n",
    "#         self._optimize = None\n",
    "#         self._error = None\n",
    "#         self._gradients = None\n",
    "#         self._hessians = None\n",
    "#         self._params = None\n",
    "        \n",
    "#     @property\n",
    "#     def params(self):\n",
    "#         if  self._params is  None:\n",
    "#             data_dim = int(self.data.get_shape()[1])\n",
    "#             target_dim = int(self.target.get_shape()[1])\n",
    "#             # we construct one variable for both weight and bias\n",
    "#             self._params = tf.get_variable(name='params', shape=[data_dim+target_dim])\n",
    "#         return  self._params\n",
    "\n",
    "#     @property\n",
    "#     def prediction(self):\n",
    "#         if  self._prediction is  None:\n",
    "#             data_dim = int(self.data.get_shape()[1])\n",
    "#             W = tf.reshape(self.params[:-1], [data_dim,1])\n",
    "#             b = self.params[-1]\n",
    "#             self._prediction = tf.matmul(self.data, W) + b\n",
    "#         return  self._prediction\n",
    "\n",
    "#     @property\n",
    "#     def error(self):\n",
    "#         if  self._error is  None:\n",
    "#             self._error = tf.losses.mean_squared_error(labels = self.target,\n",
    "#             predictions = self.prediction)\n",
    "#         return  self._error\n",
    "    \n",
    "#     @property\n",
    "#     def optimize(self, lr  =  0.1):\n",
    "#         if  self._optimize is  None:\n",
    "#             train_op = tf.train.GradientDescentOptimizer(learning_rate=lr).minimize(self.error)\n",
    "#             self._optimize = train_op\n",
    "#         return  self._optimize\n",
    "\n",
    "#     @property\n",
    "#     def  gradients(self):\n",
    "#         if  self._gradients is  None:\n",
    "#             self._gradients = tf.gradients(self.error, self.params)\n",
    "#         return  self._gradients\n",
    "\n",
    "#     @property\n",
    "#     def  hessians(self):\n",
    "#         if  self._hessians is  None:\n",
    "#             self._hessians = tf.hessians(self.error, self.params)\n",
    "#         return  self._hessians"
   ]
  },
  {
   "cell_type": "code",
   "execution_count": 3,
   "id": "excited-eligibility",
   "metadata": {},
   "outputs": [],
   "source": [
    "class LinearModel:\n",
    "    \n",
    "    def __init__(self, data, target):\n",
    "        self.data = data\n",
    "        print(\"Init-Data: \", data)\n",
    "        self.target = target\n",
    "        print(\"Init-Target: \", target)\n",
    "        self._prediction = None\n",
    "        self._optimize = None\n",
    "        self._error = None\n",
    "        self._gradients = None\n",
    "        self._hessians = None\n",
    "        self._params = None\n",
    "        \n",
    "    @property\n",
    "    def params(self):\n",
    "        if  self._params is  None:\n",
    "            data_dim = int(self.data.get_shape()[1])\n",
    "            print(\"Params-data_dim: \", data_dim)\n",
    "            target_dim = int(self.target.get_shape()[1])\n",
    "            print(\"Params-target_dim: \", target_dim)\n",
    "            # we construct one variable for both weight and bias\n",
    "            self._params = tf.get_variable(name='params', shape=[data_dim+target_dim])\n",
    "            print(\"Params-total_dim: \", data_dim + target_dim)\n",
    "        return  self._params\n",
    "\n",
    "    @property\n",
    "    def prediction(self):\n",
    "        if  self._prediction is  None:\n",
    "            data_dim = int(self.data.get_shape()[1])\n",
    "            print(\"Prediction-data_dim: \", data_dim)\n",
    "            W = tf.reshape(self.params[:-1], [data_dim,1])\n",
    "            print(\"Prediction-W: \", W)\n",
    "            b = self.params[-1]\n",
    "            print(\"Prediction-b: \", b)\n",
    "            self._prediction = tf.matmul(self.data, W) + b\n",
    "        return  self._prediction\n",
    "\n",
    "    @property\n",
    "    def error(self):\n",
    "        if  self._error is  None:\n",
    "            self._error = tf.losses.mean_squared_error(labels = self.target,\n",
    "            predictions = self.prediction)\n",
    "            print(\"error-self._error: \", self._error)\n",
    "        return  self._error\n",
    "    \n",
    "    @property\n",
    "    def optimize(self, lr  =  0.1):\n",
    "        if  self._optimize is  None:\n",
    "            train_op = tf.train.GradientDescentOptimizer(learning_rate=lr).minimize(self.error)\n",
    "            self._optimize = train_op\n",
    "            print(\"optimize-self._optimize: \",self._optimize)\n",
    "        return  self._optimize\n",
    "\n",
    "    @property\n",
    "    def  gradients(self):\n",
    "        if  self._gradients is  None:\n",
    "            self._gradients = tf.gradients(self.error, self.params)\n",
    "            print(\"gradients-self._gradients\", self._gradients)\n",
    "        return  self._gradients\n",
    "\n",
    "    @property\n",
    "    def  hessians(self):\n",
    "        if  self._hessians is  None:\n",
    "            self._hessians = tf.hessians(self.error, self.params)\n",
    "            print(\"hessians-self._hessians: \",self._hessians)\n",
    "        return  self._hessians"
   ]
  },
  {
   "cell_type": "code",
   "execution_count": 4,
   "id": "least-worthy",
   "metadata": {},
   "outputs": [],
   "source": [
    "def  true_function(x, noise  =  True):\n",
    "    y = -5*x+5\n",
    "    if noise:\n",
    "        y += np.random.normal(scale=0.1, size = x.shape)\n",
    "    return y\n",
    "\n",
    "X_data = np.arange(-5,5,0.5).reshape((-1,1))\n",
    "Y_data = true_function(X_data) # linear function\n",
    "#perturbation\n",
    "Y_data[1] = 100.0\n",
    "Y_data[-5] = 100.0\n",
    "Y_data = Y_data.reshape((-1,1))\n",
    "X_test = 3.2*np.ones((1,1))\n",
    "Y_test = true_function(X_test, noise=True)"
   ]
  },
  {
   "cell_type": "code",
   "execution_count": 5,
   "id": "southern-cooperative",
   "metadata": {},
   "outputs": [
    {
     "name": "stdout",
     "output_type": "stream",
     "text": [
      "Init-Data:  Tensor(\"Placeholder:0\", shape=(?, 1), dtype=float32)\n",
      "Init-Target:  Tensor(\"Placeholder_1:0\", shape=(?, 1), dtype=float32)\n",
      "Prediction-data_dim:  1\n",
      "Params-data_dim:  1\n",
      "Params-target_dim:  1\n",
      "Params-total_dim:  2\n",
      "Prediction-W:  Tensor(\"Reshape:0\", shape=(1, 1), dtype=float32)\n",
      "Prediction-b:  Tensor(\"strided_slice_1:0\", shape=(), dtype=float32)\n",
      "error-self._error:  Tensor(\"mean_squared_error/value:0\", shape=(), dtype=float32)\n",
      "optimize-self._optimize:  name: \"GradientDescent\"\n",
      "op: \"NoOp\"\n",
      "input: \"^GradientDescent/update_params/ApplyGradientDescent\"\n",
      "\n",
      "gradients-self._gradients [<tf.Tensor 'gradients_1/AddN:0' shape=(2,) dtype=float32>]\n",
      "hessians-self._hessians:  [<tf.Tensor 'Reshape_2:0' shape=(2, 2) dtype=float32>]\n"
     ]
    }
   ],
   "source": [
    "EPOCHS = 100\n",
    "R = 1\n",
    "num_train_points = X_data.shape[0]\n",
    "\n",
    "tf.reset_default_graph()\n",
    "#tf.compat.v1.reset_default_graph()\n",
    "\n",
    "x = tf.placeholder(dtype=tf.float32, shape=(None, 1))\n",
    "y_true = tf.placeholder(dtype=tf.float32, shape=(None, 1))\n",
    "model = LinearModel(x, y_true)\n",
    "train_op = model.optimize\n",
    "loss_op = model.error\n",
    "param_op = model.params\n",
    "gradient_op = model.gradients\n",
    "hessian_op = model.hessians"
   ]
  },
  {
   "cell_type": "code",
   "execution_count": 6,
   "id": "accomplished-internship",
   "metadata": {},
   "outputs": [
    {
     "name": "stderr",
     "output_type": "stream",
     "text": [
      "2022-06-23 11:46:52.346953: W tensorflow/stream_executor/platform/default/dso_loader.cc:64] Could not load dynamic library 'libcuda.so.1'; dlerror: libcuda.so.1: cannot open shared object file: No such file or directory\n",
      "2022-06-23 11:46:52.346995: W tensorflow/stream_executor/cuda/cuda_driver.cc:269] failed call to cuInit: UNKNOWN ERROR (303)\n",
      "2022-06-23 11:46:52.347021: I tensorflow/stream_executor/cuda/cuda_diagnostics.cc:156] kernel driver does not appear to be running on this host (pnans): /proc/driver/nvidia/version does not exist\n",
      "2022-06-23 11:46:52.347368: I tensorflow/core/platform/cpu_feature_guard.cc:151] This TensorFlow binary is optimized with oneAPI Deep Neural Network Library (oneDNN) to use the following CPU instructions in performance-critical operations:  AVX2 FMA\n",
      "To enable them in other operations, rebuild TensorFlow with the appropriate compiler flags.\n"
     ]
    },
    {
     "name": "stdout",
     "output_type": "stream",
     "text": [
      "init_op:  name: \"init\"\n",
      "op: \"NoOp\"\n",
      "input: \"^params/Assign\"\n",
      "\n",
      "x, y_true:  Tensor(\"Placeholder:0\", shape=(?, 1), dtype=float32) Tensor(\"Placeholder_1:0\", shape=(?, 1), dtype=float32)\n",
      "r:  0  s_test_j:  [56.27774  17.586794] \n",
      "\n",
      "hess_param:  [50.  2.]\n",
      "hess_param:  [40.5  2. ]\n",
      "hess_param:  [32.  2.]\n",
      "hess_param:  [24.5  2. ]\n",
      "hess_param:  [18.  2.]\n",
      "hess_param:  [12.5  2. ]\n",
      "hess_param:  [8. 2.]\n",
      "hess_param:  [4.5 2. ]\n",
      "hess_param:  [2. 2.]\n",
      "hess_param:  [0.5 2. ]\n",
      "hess_param:  [0. 2.]\n",
      "hess_param:  [0.5 2. ]\n",
      "hess_param:  [2. 2.]\n",
      "hess_param:  [4.5 2. ]\n",
      "hess_param:  [8. 2.]\n",
      "hess_param:  [12.5  2. ]\n",
      "hess_param:  [18.  2.]\n",
      "hess_param:  [24.5  2. ]\n",
      "hess_param:  [32.  2.]\n",
      "hess_param:  [40.5  2. ]\n",
      "s_test:  [1.09140359e+22 1.09140359e+22]\n",
      "grad_param:  [-93.39996   18.679993]\n",
      "importance_last:  8.154964439321624e+23\n",
      "grad_param:  [ 568.0373   -126.230515]\n",
      "importance_last:  -4.821895042734913e+24\n",
      "grad_param:  [-74.50485   18.626213]\n",
      "importance_last:  6.098614754240534e+23\n",
      "grad_param:  [-63.755783  18.215939]\n",
      "importance_last:  4.970234986450888e+23\n",
      "grad_param:  [-56.28266   18.760887]\n",
      "importance_last:  4.0951399227282e+23\n",
      "grad_param:  [-45.603172  18.241268]\n",
      "importance_last:  2.9862880457400428e+23\n",
      "grad_param:  [-36.703094  18.351547]\n",
      "importance_last:  2.0028944571353668e+23\n",
      "grad_param:  [-27.233603  18.155735]\n",
      "importance_last:  9.907617202663532e+22\n",
      "grad_param:  [-18.030117  18.030117]\n",
      "importance_last:  -0.0\n",
      "grad_param:  [-8.984467 17.968933]\n",
      "importance_last:  -9.805679064694695e+22\n",
      "grad_param:  [ 0.       17.659016]\n",
      "importance_last:  -1.9273113111398323e+23\n",
      "grad_param:  [ 8.820074 17.640148]\n",
      "importance_last:  -2.8878781593189878e+23\n",
      "grad_param:  [17.860506 17.860506]\n",
      "importance_last:  -3.8986040920131286e+23\n",
      "grad_param:  [26.92788 17.95192]\n",
      "importance_last:  -4.8981973700064686e+23\n",
      "grad_param:  [35.805763 17.902882]\n",
      "importance_last:  -5.861780791032336e+23\n",
      "grad_param:  [-493.54553 -197.41821]\n",
      "importance_last:  7.541203131193803e+24\n",
      "grad_param:  [52.97307 17.65769]\n",
      "importance_last:  -7.708666327363366e+23\n",
      "grad_param:  [61.289986 17.511425]\n",
      "importance_last:  -8.600414263766921e+23\n",
      "grad_param:  [69.011185 17.252796]\n",
      "importance_last:  -9.41488185464287e+23\n",
      "grad_param:  [77.31744  17.181652]\n",
      "importance_last:  -1.0313664436426932e+24\n",
      "End of iter\n",
      "Loss: [77.32384904]\n"
     ]
    }
   ],
   "source": [
    "init_op = tf.global_variables_initializer()\n",
    "\n",
    "with tf.Session() as sess:\n",
    "    sess.run(init_op)\n",
    "    print(\"init_op: \",init_op)\n",
    "    for e in  range(EPOCHS):\n",
    "        fd = {x: X_data, y_true: Y_data}\n",
    "        if e == 0: print(\"x, y_true: \", x, y_true)\n",
    "        _, loss_epoch = sess.run([train_op, loss_op], feed_dict = fd)\n",
    "    p = sess.run(param_op)\n",
    "    s_test = 0\n",
    "    for r in range(R):\n",
    "        v = sess.run(gradient_op, feed_dict = {x:X_test, y_true:Y_test})[0]\n",
    "        s_test_j = v\n",
    "        print(\"r: \",r, \" s_test_j: \",s_test_j, \"\\n\")\n",
    "        for j in  range(num_train_points):\n",
    "            fd = {x:X_data[j].reshape((-1,1)), y_true:Y_data[j].reshape((-1,1))}\n",
    "            hess_param = sess.run(hessian_op, feed_dict = fd)[0]\n",
    "            hess_param = np.diag(hess_param)\n",
    "            print(\"hess_param: \",hess_param)\n",
    "            s_test_j = v + np.matmul((np.identity(2)-hess_param),s_test_j)\n",
    "        s_test += s_test_j\n",
    "    s_test = s_test/R\n",
    "    print(\"s_test: \",s_test)\n",
    "    importance = []\n",
    "    for j in  range(num_train_points):\n",
    "        fd = {x:X_data[j].reshape((-1,1)), y_true:Y_data[j].reshape((-1,1))}\n",
    "        grad_param = sess.run(gradient_op, feed_dict = fd)[0]\n",
    "        print(\"grad_param: \", grad_param)\n",
    "        importance.append(-np.matmul(s_test,grad_param))\n",
    "        print(\"importance_last: \", importance[-1])\n",
    "    print(\"End of iter\")\n",
    "importance = np.asarray(importance)\n",
    "print('Loss: {}'.format(((p[0]*X_test+p[1]-Y_test)**2)[0]))"
   ]
  },
  {
   "cell_type": "code",
   "execution_count": 12,
   "id": "initial-walter",
   "metadata": {},
   "outputs": [
    {
     "data": {
      "text/plain": [
       "array([ 8.15496444e+23, -4.82189504e+24,  6.09861475e+23,  4.97023499e+23,\n",
       "        4.09513992e+23,  2.98628805e+23,  2.00289446e+23,  9.90761720e+22,\n",
       "       -0.00000000e+00, -9.80567906e+22, -1.92731131e+23, -2.88787816e+23,\n",
       "       -3.89860409e+23, -4.89819737e+23, -5.86178079e+23,  7.54120313e+24,\n",
       "       -7.70866633e+23, -8.60041426e+23, -9.41488185e+23, -1.03136644e+24])"
      ]
     },
     "execution_count": 12,
     "metadata": {},
     "output_type": "execute_result"
    }
   ],
   "source": [
    "importance"
   ]
  },
  {
   "cell_type": "code",
   "execution_count": null,
   "id": "technical-directive",
   "metadata": {},
   "outputs": [],
   "source": [
    "# EPOCHS = 100\n",
    "# R = 200\n",
    "# num_train_points = X_data.shape[0]\n",
    "\n",
    "# tf.reset_default_graph()\n",
    "# #tf.compat.v1.reset_default_graph()\n",
    "\n",
    "# x = tf.placeholder(dtype=tf.float32, shape=(None, 1))\n",
    "# y_true = tf.placeholder(dtype=tf.float32, shape=(None, 1))\n",
    "# model = LinearModel(x, y_true)\n",
    "# train_op = model.optimize\n",
    "# loss_op = model.error\n",
    "# param_op = model.params\n",
    "# gradient_op = model.gradients\n",
    "# hessian_op = model.hessians\n",
    "\n",
    "# init_op = tf.global_variables_initializer()\n",
    "\n",
    "# with tf.Session() as sess:\n",
    "#     sess.run(init_op)\n",
    "#     for e in  range(EPOCHS):\n",
    "#         fd = {x: X_data, y_true: Y_data}\n",
    "#         _, loss_epoch = sess.run([train_op, loss_op], feed_dict = fd)\n",
    "#     p = sess.run(param_op)\n",
    "#     s_test = 0\n",
    "#     for r in  range(R):\n",
    "#         v = sess.run(gradient_op, feed_dict = {x:X_test, y_true:Y_test})[0]\n",
    "#         s_test_j = v\n",
    "#         for j in  range(num_train_points):\n",
    "#             fd = {x:X_data[j].reshape((-1,1)), y_true:Y_data[j].reshape((-1,1))}\n",
    "#             hess_param = sess.run(hessian_op, feed_dict = fd)[0]\n",
    "#             hess_param = np.diag(hess_param)\n",
    "#             s_test_j = v + np.matmul((np.identity(2)-hess_param),s_test_j)\n",
    "#         s_test += s_test_j\n",
    "#     s_test = s_test/R\n",
    "#     importance = []\n",
    "#     for j in  range(num_train_points):\n",
    "#         fd = {x:X_data[j].reshape((-1,1)), y_true:Y_data[j].reshape((-1,1))}\n",
    "#         grad_param = sess.run(gradient_op, feed_dict = fd)[0]\n",
    "#         importance.append(-np.matmul(s_test,grad_param))\n",
    "\n",
    "# importance = np.asarray(importance)\n",
    "# print('Loss: {}'.format(((p[0]*X_test+p[1]-Y_test)**2)[0]))"
   ]
  },
  {
   "cell_type": "code",
   "execution_count": null,
   "id": "mature-sculpture",
   "metadata": {},
   "outputs": [],
   "source": [
    "hess_param.shape"
   ]
  },
  {
   "cell_type": "code",
   "execution_count": 8,
   "id": "discrete-delaware",
   "metadata": {},
   "outputs": [
    {
     "data": {
      "image/png": "[encoded data removed]",
      "text/plain": [
       "<Figure size 432x288 with 2 Axes>"
      ]
     },
     "metadata": {
      "image/png": {
       "height": 258,
       "width": 359
      },
      "needs_background": "light"
     },
     "output_type": "display_data"
    }
   ],
   "source": [
    "cm = plt.cm.get_cmap('RdYlBu')\n",
    "sc = plt.scatter(X_data.flatten(), Y_data.flatten(), label='train',c=-importance, cmap=cm)\n",
    "plt.scatter(X_test.flatten(), Y_test.flatten(),marker='+',label='test',c='r')\n",
    "plt.plot(X_data, p[0]*X_data+p[1])\n",
    "plt.colorbar(sc)\n",
    "plt.show()"
   ]
  },
  {
   "cell_type": "code",
   "execution_count": 15,
   "id": "pleasant-horse",
   "metadata": {},
   "outputs": [
    {
     "data": {
      "text/plain": [
       "4.821895042734913e+24"
      ]
     },
     "execution_count": 15,
     "metadata": {},
     "output_type": "execute_result"
    }
   ],
   "source": [
    "max(-importance)"
   ]
  },
  {
   "cell_type": "code",
   "execution_count": 16,
   "id": "established-gather",
   "metadata": {},
   "outputs": [
    {
     "data": {
      "text/plain": [
       "-7.541203131193803e+24"
      ]
     },
     "execution_count": 16,
     "metadata": {},
     "output_type": "execute_result"
    }
   ],
   "source": [
    "min(-importance)"
   ]
  },
  {
   "cell_type": "code",
   "execution_count": 21,
   "id": "martial-oxygen",
   "metadata": {},
   "outputs": [
    {
     "data": {
      "text/plain": [
       "-7.541203131193803e+24"
      ]
     },
     "execution_count": 21,
     "metadata": {},
     "output_type": "execute_result"
    }
   ],
   "source": [
    "-importance[-5]"
   ]
  },
  {
   "cell_type": "markdown",
   "id": "pleased-stranger",
   "metadata": {},
   "source": [
    "## Influence Functions"
   ]
  },
  {
   "cell_type": "code",
   "execution_count": null,
   "id": "noble-baltimore",
   "metadata": {},
   "outputs": [],
   "source": [
    "# Load the MNIST dataset\n",
    "mnist = tf.keras.datasets.mnist\n",
    "(x_train, y_train), (x_test, y_test) = mnist.load_data()\n",
    "# Gets number of 7 and 1 labels in MNIST\n",
    "num_test = len(np.argwhere(y_test == 7)) + len(np.argwhere(y_test == 1))\n",
    "# Creating an empty array of blank data, with all labels being 1\n",
    "test = np.zeros((num_test, 784))\n",
    "test_label = np.zeros((num_test, 1))"
   ]
  },
  {
   "cell_type": "code",
   "execution_count": null,
   "id": "dried-feature",
   "metadata": {},
   "outputs": [],
   "source": [
    "count = 0\n",
    "\n",
    "for i in  range(len(x_test)):\n",
    "    if y_test[i] == 7:\n",
    "        test[count] += (x_test[i] / np.linalg.norm(x_test[i])).reshape(784)\n",
    "        test_label[count] += np.array([1.0])\n",
    "        count += 1\n",
    "        if count == num_test:\n",
    "            break\n",
    "    elif y_test[i] == 1:\n",
    "        test[count] += (x_test[i] / np.linalg.norm(x_test[i])).reshape(784)\n",
    "        test_label[count] += np.array([0.0])\n",
    "        count += 1\n",
    "        if count == num_test:\n",
    "            break\n",
    "\n",
    "# We repeat this process on the training data\n",
    "num_train = len(np.argwhere(y_train == 7)) + len(np.argwhere(y_train == 1))\n",
    "data = np.zeros((num_train, 784))\n",
    "data_label = np.zeros((num_train, 1))\n",
    "count = 0\n",
    "for i in  range(len(x_train)):\n",
    "    if y_train[i] == 7:\n",
    "        data[count] += (x_train[i] / np.linalg.norm(x_train[i])).reshape(784)\n",
    "        data_label[count] += np.array([1.0])\n",
    "        count += 1\n",
    "        if count == num_train:\n",
    "            break\n",
    "    elif y_train[i] == 1:\n",
    "        data[count] += (x_train[i] / np.linalg.norm(x_train[i])).reshape(784)\n",
    "        data_label[count] += np.array([0.0])\n",
    "        count += 1\n",
    "        if count == num_train:\n",
    "            break\n",
    "\n",
    "# We're going to set a test index. This is an index within the training data\n",
    "# where we want to see how well our classifier performs on it\n",
    "test_index = 157\n",
    "plt.imshow(test[test_index].reshape(28, 28),cmap=\"inferno\", interpolation=\"nearest\")\n"
   ]
  },
  {
   "cell_type": "code",
   "execution_count": null,
   "id": "changed-season",
   "metadata": {},
   "outputs": [],
   "source": [
    "def hinge_loss(logits, labels, dty=tf.float64):\n",
    "    margin = tf.multiply(tf.cast(labels, dtype=dty), logits)\n",
    "    log_loss = tf.maximum(tf.constant(0, dtype=dty), 1 - margin)\n",
    "    return tf.reduce_mean(log_loss)\n",
    "\n",
    "def smooth_hinge_loss(logits, labels, t=1e-3, dty=tf.float64):\n",
    "    margin = tf.multiply(tf.cast(labels, dtype=dty), logits)\n",
    "    exponents = (1 - margin) / t\n",
    "    max_elems = tf.maximum(exponents, tf.zeros_like(exponents))\n",
    "    log_loss = t * (max_elems + tf.log(tf.exp(exponents - max_elems) + tf.exp(tf.zeros_like(exponents) - max_elems)))\n",
    "    return tf.reduce_mean(log_loss)\n",
    "\n",
    "def get_accuracy_op(logits, labels, sigmoid=True, dty=tf.float64):\n",
    "    if sigmoid:\n",
    "        correct_prediction = tf.equal(tf.cast(L > 0.5, tf.int32), tf.cast(labels, tf.int32))\n",
    "        accuracy = tf.reduce_sum(tf.cast(correct_prediction, tf.int32))\n",
    "        return accuracy / tf.shape(labels)[0]\n",
    "    else:\n",
    "        preds = tf.sign(logits)\n",
    "        correct = tf.reduce_sum(tf.cast(tf.equal(preds, tf.cast(labels, dty)), tf.int32))\n",
    "        return correct / tf.shape(labels)[0]\n",
    "\n",
    "def hessian_vector_product(ys, xs, v, do_not_sum_up=True):\n",
    "    # Validate the input\n",
    "    length = len(xs)\n",
    "    if  len(v) != length:\n",
    "        raise  ValueError(\"xs and v must have the same length.\")\n",
    "    # First backprop\n",
    "    grads = tf.gradients(ys, xs)\n",
    "    # grads = xs\n",
    "    assert  len(grads) == length\n",
    "    elemwise_products = [\n",
    "        tf.multiply( grad_elem, tf.stop_gradient(v_elem)) for grad_elem, v_elem in  zip(grads, v) if grad_elem is  not  None\n",
    "    ]\n",
    "    # math_ops.multiply( grad_elem, array_ops.stop_gradient(v_elem)) for grad_elem, v_elem in  zip(grads, v) if grad_elem is  not  None\n",
    "    # Second backprop\n",
    "    if do_not_sum_up:\n",
    "        seperate = []\n",
    "        for i in  range(length):\n",
    "            seperate.append(tf.gradients(elemwise_products[i], xs[i])[0])\n",
    "        grads_with_none = seperate\n",
    "    else:\n",
    "        grads_with_none = tf.gradients(elemwise_products, xs)\n",
    "    return_grads = [\n",
    "        grad_elem if grad_elem is  not  None  else tf.zeros_like(x) for x, grad_elem in  zip(xs, grads_with_none)\n",
    "    ]\n",
    "    return return_grads"
   ]
  },
  {
   "cell_type": "code",
   "execution_count": null,
   "id": "intellectual-birthday",
   "metadata": {},
   "outputs": [],
   "source": [
    "tf.reset_default_graph()\n",
    "nb_clases = 1\n",
    "dty = tf.float64\n",
    "scale = 1e0\n",
    "damping = 1e-2\n",
    "\n",
    "I = tf.eye(784, dtype=dty)\n",
    "we = {}\n",
    "we[0] = 784 * 1\n",
    "w1 = tf.get_variable(\"w1\", [we[0]], initializer=tf.initializers.truncated_normal, dtype=dty)\n",
    "w1 = w1 / tf.norm(w1)\n",
    "w1 = w1 / tf.constant(1e6, dtype=dty)\n",
    "params = [w1]\n",
    "\n",
    "Hess = tf.placeholder(dty, shape=[w1.get_shape()[0], w1.get_shape()[0]], name=\"inverse\")\n",
    "cur_in = tf.placeholder(dty, shape=[w1.get_shape()[0], w1.get_shape()[0]], name=\"inverse\")\n",
    "v_cur_est = [tf.placeholder(dty, shape=a.get_shape(), name=\"v_cur_est\" + str(i)) for i, a in  enumerate(params)]\n",
    "hessian_vector_val_place = [tf.placeholder(dty, shape=a.get_shape()[0], name=\"hessian_vector_val_place\" + str(i)) for i, a in  enumerate(params)]\n",
    "Test = [tf.placeholder(dty, shape=a.get_shape(), name=\"v_cur_est\" + str(i)) for i, a in  enumerate(params)]\n",
    "\n",
    "X = tf.placeholder(dty, [None, 784], name=\"X\")\n",
    "Y = tf.placeholder(dty, [None, nb_clases], name=\"Y\")\n",
    "L = tf.matmul(X, tf.reshape(w1, [-1, 1]))\n",
    "L = tf.nn.sigmoid(L)\n",
    "\n",
    "Z = tf.placeholder(dty, [None, 784], name=\"Z\")\n",
    "Y_of_Z_train = tf.placeholder(dty, [None, nb_clases], name=\"Y_of_Z_train\")\n",
    "L_Z = tf.matmul(Z, tf.reshape(w1, [-1, 1]))\n",
    "L_Z = tf.nn.sigmoid(L_Z)\n",
    "\n",
    "Z_test = tf.placeholder(dty, [None, 784], name=\"Z_test\")\n",
    "Y_test = tf.placeholder(dty, [None, nb_clases], name=\"Y_test\")\n",
    "L_test = tf.matmul(Z_test, tf.reshape(w1, [-1, 1]))\n",
    "L_test = tf.nn.sigmoid(L_test)\n",
    "\n",
    "cost = tf.reduce_mean(-tf.reduce_sum(Y * tf.log(L + 1e-6) + (1 - Y) * tf.log(1 - L + 1e-6), 1))\n",
    "cost += damping * tf.nn.l2_loss(params) # gradient vanishing\n",
    "\n",
    "upweighting_loss = tf.reduce_mean(-tf.reduce_sum(Y_of_Z_train * tf.log(L_Z + 1e-6) + (1 - Y_of_Z_train) * tf.log(1 - L_Z + 1e-6), 1))\n",
    "upweighting_loss += damping * tf.nn.l2_loss(params) # gradient vanishing\n",
    "\n",
    "Test_loss = tf.reduce_mean(-tf.reduce_sum(Y_test * tf.log(L_test + 1e-6) + (1 - Y_test) * tf.log(1 - L_test + 1e-6), 1))\n",
    "Test_loss += damping * tf.nn.l2_loss(params) # gradient vanishing\n"
   ]
  },
  {
   "cell_type": "code",
   "execution_count": null,
   "id": "tough-bearing",
   "metadata": {},
   "outputs": [],
   "source": [
    "# grads\n",
    "test_grad = tf.gradients(Test_loss, params)\n",
    "train_grad = tf.gradients(upweighting_loss, params)\n",
    "\n",
    "# Hessians\n",
    "true_hess = tf.hessians(cost, params)\n",
    "\n",
    "# H dot v\n",
    "hessian_vector_val = hessian_vector_product(cost, params, v_cur_est, True)\n",
    "\n",
    "# H inverse\n",
    "estimation_IHVP = [ g + cur_e - HV / scale for g, HV, cur_e in  zip(Test, hessian_vector_val, v_cur_est)]\n",
    "estimation_inverse = (I + cur_in - tf.matmul(Hess, cur_in) / scale)"
   ]
  },
  {
   "cell_type": "code",
   "execution_count": null,
   "id": "severe-crime",
   "metadata": {},
   "outputs": [],
   "source": [
    "train_op = tf.train.AdamOptimizer(1e-2).minimize(cost)\n",
    "accuracy = get_accuracy_op(L, Y)\n",
    "sess = tf.Session()\n",
    "sess.run(tf.global_variables_initializer())\n",
    "  \n",
    "for epoch in range(1501):\n",
    "    for i in range(26):\n",
    "        batch_xs, batch_ys = (data[i * 500 : (i + 1) * 500], data_label[i * 500 : (i + 1) * 500])\n",
    "        _ = sess.run([train_op], feed_dict={X: batch_xs, Y: batch_ys})\n",
    "    if epoch % 500 == 0  and epoch > 0:\n",
    "        c = sess.run(accuracy, feed_dict={X: test, Y: test_label})\n",
    "        a = sess.run(accuracy, feed_dict={X: data, Y: data_label})\n",
    "        ccc = sess.run(cost, feed_dict={X: test, Y: test_label})\n",
    "        print(\"Train accuracy: \", a, \" Test accuracy: \", c, \" cost: \", ccc)\n",
    "print(\"sum of parameters: \", sess.run(tf.nn.l2_loss(params)).sum())"
   ]
  },
  {
   "cell_type": "code",
   "execution_count": null,
   "id": "tired-skill",
   "metadata": {},
   "outputs": [],
   "source": [
    "# Numpy Direct Inverse\n",
    "\n",
    "true_h = sess.run(true_hess[0], feed_dict={X: data, Y: data_label})\n",
    "inv = np.linalg.inv(true_h)\n",
    "np.linalg.norm(true_h)"
   ]
  },
  {
   "cell_type": "code",
   "execution_count": null,
   "id": "selected-usage",
   "metadata": {},
   "outputs": [],
   "source": [
    "cur_estimate = sess.run(I)\n",
    "#start_time = time.time()\n",
    "for j in  range(5001):\n",
    "    cur_estimate = sess.run(estimation_inverse, feed_dict={Hess: true_h, cur_in: cur_estimate})\n",
    "inverse = cur_estimate / scale\n",
    "#duration = time.time() - start_time\n",
    "#print(\"Inverse Hessian by Lissa: took %s minute %s sec\" % (duration // 60, duration % 60))"
   ]
  },
  {
   "cell_type": "code",
   "execution_count": null,
   "id": "elder-walker",
   "metadata": {},
   "outputs": [],
   "source": [
    "print(\"Lissa Identity Error: \", abs(np.dot(true_h, inverse) - np.eye(784)).sum())\n",
    "print(\"Numpy Identity Error: \", abs(np.dot(true_h, inv) - np.eye(784)).sum())\n",
    "print(\"Inverse Error: \", abs(inverse - inv).sum())"
   ]
  },
  {
   "cell_type": "code",
   "execution_count": null,
   "id": "imported-symbol",
   "metadata": {},
   "outputs": [],
   "source": [
    "test_val = sess.run(\n",
    "    test_grad,\n",
    "    feed_dict={\n",
    "        Z_test: test[test_index].reshape((1, 784)),\n",
    "        Y_test: test_label[test_index].reshape((1, 1)),\n",
    "    },\n",
    ")\n",
    "IHVP = np.dot(test_val[0], inv)\n",
    "# start_time = time.time()\n",
    "cur_estimate = test_val.copy()\n",
    "feed1 = {place: cur for place, cur in zip(Test, test_val)}\n",
    "for j in range(5001):\n",
    "    feed2 = {place: cur for place, cur in zip(v_cur_est, cur_estimate)}\n",
    "    r = np.random.randint(len(data), size=[1024])\n",
    "    cur_estimate = sess.run(\n",
    "        estimation_IHVP,\n",
    "        feed_dict={\n",
    "            X: data[r],\n",
    "            Y: data_label[r],\n",
    "            **feed1,\n",
    "            **feed2,\n",
    "        },\n",
    "    )\n",
    "    if j % 2500 == 0  and j > 0:\n",
    "        print(cur_estimate[0][0])\n",
    "inverse_hvp = [b / scale for b in cur_estimate]\n",
    "# duration = time.time() - start_time\n",
    "# print(\"Inverse HVP by HVPs+Lissa: took %s minute %s sec\" % (duration // 60, duration % 60))\n",
    "print(abs(IHVP - inverse_hvp[0]).sum())"
   ]
  },
  {
   "cell_type": "code",
   "execution_count": null,
   "id": "aggressive-termination",
   "metadata": {},
   "outputs": [],
   "source": [
    "# s = time.time()\n",
    "\n",
    "val_lissa = []\n",
    "for i in range(num_train):\n",
    "    if data_label[i][0] == test_label[test_index][0]:\n",
    "        train_grad_loss_val = sess.run(\n",
    "            train_grad,\n",
    "            feed_dict={\n",
    "                Z: data[i].reshape((1, 784)),\n",
    "                Y_of_Z_train: data_label[i].reshape((1, 1)),\n",
    "            },\n",
    "        )\n",
    "        val_lissa.append([i, np.dot(np.concatenate(inverse_hvp), np.concatenate(train_grad_loss_val))])\n",
    "# duration = time.time() - s\n",
    "# print(\"Multiplying by %s train examples took %s minute %s sec\" % (1, duration // 60, duration % 60))\n",
    "val_lissa = sorted(val_lissa, key=lambda x: x[1])"
   ]
  },
  {
   "cell_type": "code",
   "execution_count": null,
   "id": "starting-column",
   "metadata": {},
   "outputs": [],
   "source": [
    "# s = time.time()\n",
    "val = []\n",
    "for i in  range(num_train):\n",
    "    if data_label[i][0] == test_label[test_index][0]:\n",
    "        train_grad_loss_val = sess.run(\n",
    "            train_grad,\n",
    "            feed_dict={\n",
    "                Z: data[i].reshape((1, 784)),\n",
    "                Y_of_Z_train: data_label[i].reshape((1, 1)),\n",
    "            },\n",
    "        )\n",
    "        val.append([i, np.dot(IHVP, np.concatenate(train_grad_loss_val))])\n",
    "# duration = time.time() - s\n",
    "# print(\"Multiplying by %s train examples took %s minute %s sec\" % (1, duration // 60, duration % 60))\n",
    "val = sorted(val, key=lambda x: x[1])"
   ]
  },
  {
   "cell_type": "code",
   "execution_count": null,
   "id": "defensive-complex",
   "metadata": {},
   "outputs": [],
   "source": [
    "print(\"Numpy IHVP\",\n",
    "      \"\\nMost Harmful Indexes\", [val[i][0] for i in  range(0, 6)],\n",
    "      \"\\nMost Helpful Indexes\", [val[i][0] for i in  range(-1, -7, -1)])\n",
    "print(\"Lissa IHVP\",\n",
    "      \"\\nMost Harmful Indexes\", [val_lissa[i][0] for i in  range(0, 6)],\n",
    "      \"\\nMost Helpful Indexes\", [val_lissa[i][0] for i in  range(-1, -7, -1)])"
   ]
  },
  {
   "cell_type": "code",
   "execution_count": null,
   "id": "patent-trade",
   "metadata": {},
   "outputs": [],
   "source": [
    "fig = plt.figure(figsize=(16, 4))\n",
    "image_details = [\n",
    "    [\"Test_image\", test[test_index]],\n",
    "    [\"Harmful_image1\", data[val[0][0]]],\n",
    "    [\"Harmful_image2\", data[val[1][0]]],\n",
    "    [\"Harmful_image3\", data[val[2][0]]],\n",
    "    [\"Harmful_image4\", data[val[3][0]]],\n",
    "    [\"Harmful_image5\", data[val[4][0]]],\n",
    "    [\"Harmful_image6\", data[val[5][0]]]]\n",
    "for i in  range(1, 8):\n",
    "    ax = plt.subplot(1, 7, i)\n",
    "    plt.imshow(image_details[i-1][1].reshape(28, 28), cmap=\"inferno\", interpolation=\"nearest\")\n",
    "    ax.set_title(image_details[i-1][0])\n",
    "plt.tight_layout()\n",
    "plt.show()"
   ]
  },
  {
   "cell_type": "code",
   "execution_count": null,
   "id": "technological-jaguar",
   "metadata": {},
   "outputs": [],
   "source": [
    "fig = plt.figure(figsize=(16, 4))\n",
    "\n",
    "image_details = [\n",
    "    [\"Test_image\", test[test_index]],\n",
    "    [\"Positive_image1\", data[val[-1][0]]],\n",
    "    [\"Positive_image2\", data[val[-2][0]]],\n",
    "    [\"Positive_image3\", data[val[-3][0]]],\n",
    "    [\"Positive_image4\", data[val[-4][0]]],\n",
    "    [\"Positive_image5\", data[val[-5][0]]],\n",
    "    [\"Positive_image6\", data[val[-6][0]]]]\n",
    "\n",
    "for i in  range(1, 8):\n",
    "    ax = plt.subplot(1, 7, i)\n",
    "    plt.imshow(image_details[i-1][1].reshape(28, 28), cmap=\"inferno\", interpolation=\"nearest\")\n",
    "    ax.set_title(image_details[i-1][0])\n",
    "plt.tight_layout()\n",
    "plt.show()"
   ]
  },
  {
   "cell_type": "markdown",
   "id": "colonial-olive",
   "metadata": {},
   "source": [
    "## NN Implementation"
   ]
  },
  {
   "cell_type": "code",
   "execution_count": null,
   "id": "enclosed-mistake",
   "metadata": {},
   "outputs": [],
   "source": [
    "import math\n",
    "import pandas as pd\n",
    "import tensorflow as tf\n",
    "import matplotlib.pyplot as plt\n",
    "from tensorflow.keras import Model\n",
    "from tensorflow.keras import Sequential\n",
    "from tensorflow.keras.optimizers import Adam\n",
    "from sklearn.preprocessing import StandardScaler\n",
    "from tensorflow.keras.layers import Dense, Dropout\n",
    "from sklearn.model_selection import train_test_split\n",
    "from tensorflow.keras.losses import MeanSquaredLogarithmicError\n",
    "# TRAIN_DATA_PATH = '/content/sample_data/california_housing_train.csv'\n",
    "# TEST_DATA_PATH = '/content/sample_data/california_housing_test.csv'\n",
    "TARGET_NAME = 'median_house_value'"
   ]
  },
  {
   "cell_type": "code",
   "execution_count": null,
   "id": "amazing-christian",
   "metadata": {},
   "outputs": [],
   "source": [
    "# x_train = features, y_train = target\n",
    "train_data = pd.read_csv('california_housing_train.csv')\n",
    "test_data = pd.read_csv('california_housing_test.csv')\n",
    "x_train, y_train = train_data.drop(TARGET_NAME, axis=1), train_data[TARGET_NAME]\n",
    "x_test, y_test = test_data.drop(TARGET_NAME, axis=1), test_data[TARGET_NAME]"
   ]
  },
  {
   "cell_type": "code",
   "execution_count": null,
   "id": "opposed-wrapping",
   "metadata": {},
   "outputs": [],
   "source": [
    "def scale_datasets(x_train, x_test):\n",
    "    standard_scaler = StandardScaler()\n",
    "    \n",
    "    x_train_scaled = pd.DataFrame(standard_scaler.fit_transform(x_train), columns=x_train.columns)\n",
    "    x_test_scaled = pd.DataFrame(standard_scaler.transform(x_test), columns = x_test.columns)\n",
    "    \n",
    "    return x_train_scaled, x_test_scaled\n",
    "\n",
    "x_train_scaled, x_test_scaled = scale_datasets(x_train, x_test)"
   ]
  },
  {
   "cell_type": "code",
   "execution_count": null,
   "id": "bibliographic-correlation",
   "metadata": {},
   "outputs": [],
   "source": [
    "hidden_units1 = 160\n",
    "hidden_units2 = 480\n",
    "hidden_units3 = 256\n",
    "learning_rate = 0.01\n",
    "# Creating model using the Sequential in tensorflow\n",
    "def build_model_using_sequential():\n",
    "    model = Sequential([\n",
    "    Dense(hidden_units1, kernel_initializer='normal', activation='relu'),\n",
    "    Dropout(0.2),\n",
    "    Dense(hidden_units2, kernel_initializer='normal', activation='relu'),\n",
    "    Dropout(0.2),\n",
    "    Dense(hidden_units3, kernel_initializer='normal', activation='relu'),\n",
    "    Dense(1, kernel_initializer='normal', activation='linear')\n",
    "  ])\n",
    "    return model\n",
    "# build the model\n",
    "model = build_model_using_sequential()"
   ]
  },
  {
   "cell_type": "code",
   "execution_count": null,
   "id": "relevant-childhood",
   "metadata": {},
   "outputs": [],
   "source": [
    "# loss function\n",
    "msle = MeanSquaredLogarithmicError()\n",
    "model.compile(\n",
    "    loss=msle, \n",
    "    optimizer=Adam(learning_rate=learning_rate), \n",
    "    metrics=[msle]\n",
    ")\n",
    "# train the model\n",
    "history = model.fit(\n",
    "    x_train_scaled.values, \n",
    "    y_train.values, \n",
    "    epochs=10, \n",
    "    batch_size=64,\n",
    "    validation_split=0.2\n",
    ")"
   ]
  },
  {
   "cell_type": "code",
   "execution_count": null,
   "id": "incorporated-toner",
   "metadata": {},
   "outputs": [],
   "source": [
    "def plot_history(history, key):\n",
    "    plt.plot(history.history[key])\n",
    "    plt.plot(history.history['val_'+key])\n",
    "    plt.xlabel(\"Epochs\")\n",
    "    plt.ylabel(key)\n",
    "    plt.legend([key, 'val_'+key])\n",
    "    plt.show()\n",
    "# Plot the history\n",
    "plot_history(history, 'mean_squared_logarithmic_error')"
   ]
  },
  {
   "cell_type": "code",
   "execution_count": null,
   "id": "comprehensive-electric",
   "metadata": {},
   "outputs": [],
   "source": [
    "x_test['prediction'] = model.predict(x_test_scaled)\n",
    "x_test"
   ]
  },
  {
   "cell_type": "code",
   "execution_count": null,
   "id": "broke-queen",
   "metadata": {},
   "outputs": [],
   "source": [
    "#y_train.reshape(17000,1)\n",
    "#y_train.reshape((17000, 1))\n",
    "\n",
    "arr = y_train.values\n",
    "y_train = arr.reshape((17000, 1))\n",
    "\n",
    "\n",
    "arr = y_test.values\n",
    "y_test = arr.reshape((3000, 1))"
   ]
  },
  {
   "cell_type": "code",
   "execution_count": null,
   "id": "chinese-arcade",
   "metadata": {},
   "outputs": [],
   "source": [
    "x_train_scaled = x_train_scaled.to_numpy()"
   ]
  },
  {
   "cell_type": "code",
   "execution_count": null,
   "id": "magnetic-alliance",
   "metadata": {},
   "outputs": [],
   "source": [
    "x_test_scaled = x_test_scaled.to_numpy()"
   ]
  },
  {
   "cell_type": "code",
   "execution_count": null,
   "id": "documented-interstate",
   "metadata": {},
   "outputs": [],
   "source": [
    "y_train"
   ]
  },
  {
   "cell_type": "code",
   "execution_count": null,
   "id": "outdoor-geneva",
   "metadata": {},
   "outputs": [],
   "source": [
    "y_test"
   ]
  },
  {
   "cell_type": "code",
   "execution_count": null,
   "id": "robust-lambda",
   "metadata": {},
   "outputs": [],
   "source": [
    "EPOCHS = 100\n",
    "R = 2\n",
    "num_train_points = x_train_scaled.shape[0]\n",
    "\n",
    "tf.reset_default_graph()\n",
    "#tf.compat.v1.reset_default_graph()\n",
    "\n",
    "x = tf.placeholder(dtype=tf.float32, shape=(None, 8))\n",
    "y_true = tf.placeholder(dtype=tf.float32, shape=(None, 1))\n",
    "\n",
    "model = LinearModel(x, y_true)\n",
    "train_op = model.optimize\n",
    "loss_op = model.error\n",
    "param_op = model.params\n",
    "gradient_op = model.gradients\n",
    "hessian_op = model.hessians"
   ]
  },
  {
   "cell_type": "code",
   "execution_count": null,
   "id": "facial-foster",
   "metadata": {},
   "outputs": [],
   "source": [
    "# Init-Data:  Tensor(\"Placeholder:0\", shape=(?, 1), dtype=float32)\n",
    "# Init-Target:  Tensor(\"Placeholder_1:0\", shape=(?, 1), dtype=float32)\n",
    "# Prediction-data_dim:  1\n",
    "# Params-data_dim:  1\n",
    "# Params-target_dim:  1\n",
    "# Params-total_dim:  2\n",
    "# Prediction-W:  Tensor(\"Reshape:0\", shape=(1, 1), dtype=float32)\n",
    "# Prediction-b:  Tensor(\"strided_slice_1:0\", shape=(), dtype=float32)\n",
    "# error-self._error:  Tensor(\"mean_squared_error/value:0\", shape=(), dtype=float32)\n",
    "# optimize-self._optimize:  name: \"GradientDescent\"\n",
    "# op: \"NoOp\"\n",
    "# input: \"^GradientDescent/update_params/ApplyGradientDescent\"\n",
    "\n",
    "# gradients-self._gradients [<tf.Tensor 'gradients_1/AddN:0' shape=(2,) dtype=float32>]\n",
    "# hessians-self._hessians:  [<tf.Tensor 'Reshape_2:0' shape=(2, 2) dtype=float32>]"
   ]
  },
  {
   "cell_type": "code",
   "execution_count": null,
   "id": "figured-headline",
   "metadata": {},
   "outputs": [],
   "source": [
    "# EPOCHS = 100\n",
    "# R = 2\n",
    "# num_train_points = x_train_scaled.shape[0]\n",
    "\n",
    "# tf.reset_default_graph()\n",
    "# #tf.compat.v1.reset_default_graph()\n",
    "\n",
    "# x = tf.placeholder(dtype=tf.float32, shape=(None, 8))\n",
    "# y_true = tf.placeholder(dtype=tf.float32, shape=(None, 1))\n",
    "\n",
    "# model = LinearModel(x, y_true)\n",
    "# train_op = model.optimize\n",
    "# loss_op = model.error\n",
    "# param_op = model.params\n",
    "# gradient_op = model.gradients\n",
    "# hessian_op = model.hessians\n",
    "\n",
    "# init_op = tf.global_variables_initializer()\n",
    "# i = 0\n",
    "\n",
    "# with tf.Session() as sess:\n",
    "#     print(\"Hello-1\", i)\n",
    "#     sess.run(init_op)\n",
    "#     for e in  range(EPOCHS):\n",
    "#         fd = {x: x_train_scaled, y_true: y_train}\n",
    "#         _, loss_epoch = sess.run([train_op, loss_op], feed_dict = fd)\n",
    "#     p = sess.run(param_op)\n",
    "#     s_test = 0\n",
    "#     for r in  range(R):\n",
    "#         print(\"Hello-2\", i, r)\n",
    "#         v = sess.run(gradient_op, feed_dict = {x:x_test_scaled, y_true:y_test})[0]\n",
    "#         s_test_j = v\n",
    "#         for j in  range(num_train_points):\n",
    "# #             print(x_train_scaled[j].reshape(1,-1).shape)\n",
    "# #             print(y_train[j])\n",
    "# #             break\n",
    "#             print(\"Hello-3\", i, j)\n",
    "#             fd = {x:x_train_scaled[j].reshape((1,-1)), y_true:y_train[j].reshape((-1,1))}\n",
    "#             hess_param = sess.run(hessian_op, feed_dict = fd)[0]\n",
    "#             hess_param = np.diag(hess_param)\n",
    "#             s_test_j = v + np.matmul((np.identity(9)-hess_param),s_test_j)\n",
    "#         s_test += s_test_j\n",
    "#     s_test = s_test/R\n",
    "#     importance = []\n",
    "#     for j in  range(num_train_points):\n",
    "#         print(\"Hello-4\", i, j)\n",
    "#         fd = {x:x_train_scaled[j].reshape((1,-1)), y_true:y_train[j].reshape((-1,1))}\n",
    "#         grad_param = sess.run(gradient_op, feed_dict = fd)[0]\n",
    "#         importance.append(-np.matmul(s_test,grad_param))\n",
    "#     i += 1\n",
    "\n",
    "# importance = np.asarray(importance)\n",
    "# print('Loss: {}'.format(((p[0]*x_test_scaled+p[1]-y_test)**2)[0]))"
   ]
  },
  {
   "cell_type": "code",
   "execution_count": null,
   "id": "european-kingston",
   "metadata": {},
   "outputs": [],
   "source": [
    "importance"
   ]
  },
  {
   "cell_type": "code",
   "execution_count": null,
   "id": "appreciated-firmware",
   "metadata": {},
   "outputs": [],
   "source": [
    "cm = plt.cm.get_cmap('RdYlBu')\n",
    "sc = plt.scatter(x_test_scaled.flatten(), y_test.flatten(), label='train',c=-importance, cmap=cm)\n",
    "plt.scatter(X_test.flatten(), Y_test.flatten(),marker='+',label='test',c='r')\n",
    "plt.plot(X_data, p[0]*X_data+p[1])\n",
    "plt.colorbar(sc)\n",
    "plt.show()"
   ]
  }
 ],
 "metadata": {
  "kernelspec": {
   "display_name": "Python 3 (ipykernel)",
   "language": "python",
   "name": "python3"
  },
  "language_info": {
   "codemirror_mode": {
    "name": "ipython",
    "version": 3
   },
   "file_extension": ".py",
   "mimetype": "text/x-python",
   "name": "python",
   "nbconvert_exporter": "python",
   "pygments_lexer": "ipython3",
   "version": "3.8.8"
  }
 },
 "nbformat": 4,
 "nbformat_minor": 5
}
