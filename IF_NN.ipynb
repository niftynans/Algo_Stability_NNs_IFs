{
 "cells": [
  {
   "cell_type": "code",
   "execution_count": 16,
   "id": "hired-enlargement",
   "metadata": {},
   "outputs": [],
   "source": [
    "import matplotlib.pyplot as plt\n",
    "# import tensorflow as tf\n",
    "\n",
    "import tensorflow.compat.v1 as tf\n",
    "tf.disable_v2_behavior()\n",
    "\n",
    "import numpy as np\n",
    "%config InlineBackend.figure_format = 'retina'"
   ]
  },
  {
   "cell_type": "code",
   "execution_count": 4,
   "id": "billion-terror",
   "metadata": {},
   "outputs": [],
   "source": [
    "class LinearModel:\n",
    "    \n",
    "    def __init__(self, data, target):\n",
    "        self.data = data\n",
    "        print(\"Init-Data: \", data)\n",
    "        self.target = target\n",
    "        print(\"Init-Target: \", target)\n",
    "        self._prediction = None\n",
    "        self._optimize = None\n",
    "        self._error = None\n",
    "        self._gradients = None\n",
    "        self._hessians = None\n",
    "        self._params = None\n",
    "        \n",
    "    @property\n",
    "    def params(self):\n",
    "        if  self._params is  None:\n",
    "            data_dim = int(self.data.get_shape()[1])\n",
    "            print(\"Params-data_dim: \", data_dim)\n",
    "            target_dim = int(self.target.get_shape()[1])\n",
    "            print(\"Params-target_dim: \", target_dim)\n",
    "            # we construct one variable for both weight and bias\n",
    "            self._params = tf.get_variable(name='params', shape=[data_dim+target_dim])\n",
    "            print(\"Params-total_dim: \", data_dim + target_dim)\n",
    "        return  self._params\n",
    "\n",
    "    @property\n",
    "    def prediction(self):\n",
    "        if  self._prediction is  None:\n",
    "            data_dim = int(self.data.get_shape()[1])\n",
    "            print(\"Prediction-data_dim: \", data_dim)\n",
    "            W = tf.reshape(self.params[:-1], [data_dim,1])\n",
    "            print(\"Prediction-W: \", W)\n",
    "            b = self.params[-1]\n",
    "            print(\"Prediction-b: \", b)\n",
    "            self._prediction = tf.matmul(self.data, W) + b\n",
    "        return  self._prediction\n",
    "\n",
    "    @property\n",
    "    def error(self):\n",
    "        if  self._error is  None:\n",
    "            self._error = tf.losses.mean_squared_error(labels = self.target,\n",
    "            predictions = self.prediction)\n",
    "            print(\"error-self._error: \", self._error)\n",
    "        return  self._error\n",
    "    \n",
    "    @property\n",
    "    def optimize(self, lr  =  0.1):\n",
    "        if  self._optimize is  None:\n",
    "            train_op = tf.train.GradientDescentOptimizer(learning_rate=lr).minimize(self.error)\n",
    "            self._optimize = train_op\n",
    "            print(\"optimize-self._optimize: \",self._optimize)\n",
    "        return  self._optimize\n",
    "\n",
    "    @property\n",
    "    def  gradients(self):\n",
    "        if  self._gradients is  None:\n",
    "            self._gradients = tf.gradients(self.error, self.params)\n",
    "            print(\"gradients-self._gradients\", self._gradients)\n",
    "        return  self._gradients\n",
    "\n",
    "    @property\n",
    "    def  hessians(self):\n",
    "        if  self._hessians is  None:\n",
    "            self._hessians = tf.hessians(self.error, self.params)\n",
    "            print(\"hessians-self._hessians: \",self._hessians)\n",
    "        return  self._hessians"
   ]
  },
  {
   "cell_type": "code",
   "execution_count": 5,
   "id": "final-firewall",
   "metadata": {},
   "outputs": [],
   "source": [
    "import math\n",
    "import pandas as pd\n",
    "import tensorflow as tf\n",
    "import matplotlib.pyplot as plt\n",
    "from tensorflow.keras import Model\n",
    "from tensorflow.keras import Sequential\n",
    "from tensorflow.keras.optimizers import Adam\n",
    "from sklearn.preprocessing import StandardScaler\n",
    "from tensorflow.keras.layers import Dense, Dropout\n",
    "from sklearn.model_selection import train_test_split\n",
    "from tensorflow.keras.losses import MeanSquaredLogarithmicError\n",
    "# TRAIN_DATA_PATH = '/content/sample_data/california_housing_train.csv'\n",
    "# TEST_DATA_PATH = '/content/sample_data/california_housing_test.csv'\n",
    "TARGET_NAME = 'median_house_value'"
   ]
  },
  {
   "cell_type": "code",
   "execution_count": 6,
   "id": "hydraulic-centre",
   "metadata": {},
   "outputs": [],
   "source": [
    "# x_train = features, y_train = target\n",
    "train_data = pd.read_csv('california_housing_train.csv')\n",
    "test_data = pd.read_csv('california_housing_test.csv')\n",
    "x_train, y_train = train_data.drop(TARGET_NAME, axis=1), train_data[TARGET_NAME]\n",
    "x_test, y_test = test_data.drop(TARGET_NAME, axis=1), test_data[TARGET_NAME]"
   ]
  },
  {
   "cell_type": "code",
   "execution_count": 7,
   "id": "effective-fitness",
   "metadata": {},
   "outputs": [],
   "source": [
    "def scale_datasets(x_train, x_test):\n",
    "    standard_scaler = StandardScaler()\n",
    "    \n",
    "    x_train_scaled = pd.DataFrame(standard_scaler.fit_transform(x_train), columns=x_train.columns)\n",
    "    x_test_scaled = pd.DataFrame(standard_scaler.transform(x_test), columns = x_test.columns)\n",
    "    \n",
    "    return x_train_scaled, x_test_scaled\n",
    "\n",
    "x_train_scaled, x_test_scaled = scale_datasets(x_train, x_test)"
   ]
  },
  {
   "cell_type": "code",
   "execution_count": 8,
   "id": "anonymous-innocent",
   "metadata": {},
   "outputs": [
    {
     "name": "stdout",
     "output_type": "stream",
     "text": [
      "WARNING:tensorflow:From /home/pnans/.local/lib/python3.8/site-packages/keras/initializers/initializers_v1.py:159: calling RandomNormal.__init__ (from tensorflow.python.ops.init_ops) with dtype is deprecated and will be removed in a future version.\n",
      "Instructions for updating:\n",
      "Call initializer instance with the dtype argument instead of passing it to the constructor\n"
     ]
    }
   ],
   "source": [
    "hidden_units1 = 160\n",
    "hidden_units2 = 480\n",
    "hidden_units3 = 256\n",
    "learning_rate = 0.01\n",
    "# Creating model using the Sequential in tensorflow\n",
    "def build_model_using_sequential():\n",
    "    model = Sequential([\n",
    "    Dense(hidden_units1, kernel_initializer='normal', activation='relu'),\n",
    "    Dropout(0.2),\n",
    "    Dense(hidden_units2, kernel_initializer='normal', activation='relu'),\n",
    "    Dropout(0.2),\n",
    "    Dense(hidden_units3, kernel_initializer='normal', activation='relu'),\n",
    "    Dense(1, kernel_initializer='normal', activation='linear')\n",
    "  ])\n",
    "    return model\n",
    "# build the model\n",
    "model = build_model_using_sequential()"
   ]
  },
  {
   "cell_type": "code",
   "execution_count": 9,
   "id": "false-mining",
   "metadata": {},
   "outputs": [
    {
     "name": "stdout",
     "output_type": "stream",
     "text": [
      "Train on 13600 samples, validate on 3400 samples\n",
      "Epoch 1/10\n",
      "   64/13600 [..............................] - ETA: 19s - loss: 147.9614 - mean_squared_logarithmic_error: 147.9614"
     ]
    },
    {
     "name": "stderr",
     "output_type": "stream",
     "text": [
      "2022-06-23 12:01:37.264705: W tensorflow/stream_executor/platform/default/dso_loader.cc:64] Could not load dynamic library 'libcuda.so.1'; dlerror: libcuda.so.1: cannot open shared object file: No such file or directory\n",
      "2022-06-23 12:01:37.264746: W tensorflow/stream_executor/cuda/cuda_driver.cc:269] failed call to cuInit: UNKNOWN ERROR (303)\n",
      "2022-06-23 12:01:37.264770: I tensorflow/stream_executor/cuda/cuda_diagnostics.cc:156] kernel driver does not appear to be running on this host (pnans): /proc/driver/nvidia/version does not exist\n",
      "2022-06-23 12:01:37.265090: I tensorflow/core/platform/cpu_feature_guard.cc:151] This TensorFlow binary is optimized with oneAPI Deep Neural Network Library (oneDNN) to use the following CPU instructions in performance-critical operations:  AVX2 FMA\n",
      "To enable them in other operations, rebuild TensorFlow with the appropriate compiler flags.\n"
     ]
    },
    {
     "name": "stdout",
     "output_type": "stream",
     "text": [
      "13600/13600 [==============================] - 1s 54us/sample - loss: 5.2301 - mean_squared_logarithmic_error: 5.2186 - val_loss: 0.6737 - val_mean_squared_logarithmic_error: 0.6750\n",
      "Epoch 2/10\n",
      " 2432/13600 [====>.........................] - ETA: 0s - loss: 0.2914 - mean_squared_logarithmic_error: 0.2914"
     ]
    },
    {
     "name": "stderr",
     "output_type": "stream",
     "text": [
      "/home/pnans/.local/lib/python3.8/site-packages/keras/engine/training_v1.py:2057: UserWarning: `Model.state_updates` will be removed in a future version. This property should not be used in TensorFlow 2.0, as `updates` are applied automatically.\n",
      "  updates = self.state_updates\n"
     ]
    },
    {
     "name": "stdout",
     "output_type": "stream",
     "text": [
      "13600/13600 [==============================] - 1s 54us/sample - loss: 0.2552 - mean_squared_logarithmic_error: 0.2549 - val_loss: 0.3724 - val_mean_squared_logarithmic_error: 0.3750\n",
      "Epoch 3/10\n",
      "13600/13600 [==============================] - 1s 63us/sample - loss: 0.1894 - mean_squared_logarithmic_error: 0.1894 - val_loss: 0.2697 - val_mean_squared_logarithmic_error: 0.2693\n",
      "Epoch 4/10\n",
      "13600/13600 [==============================] - 1s 66us/sample - loss: 0.1485 - mean_squared_logarithmic_error: 0.1486 - val_loss: 0.1939 - val_mean_squared_logarithmic_error: 0.1939\n",
      "Epoch 5/10\n",
      "13600/13600 [==============================] - 1s 54us/sample - loss: 0.1234 - mean_squared_logarithmic_error: 0.1235 - val_loss: 0.1502 - val_mean_squared_logarithmic_error: 0.1487\n",
      "Epoch 6/10\n",
      "13600/13600 [==============================] - 1s 55us/sample - loss: 0.1091 - mean_squared_logarithmic_error: 0.1091 - val_loss: 0.1296 - val_mean_squared_logarithmic_error: 0.1288\n",
      "Epoch 7/10\n",
      "13600/13600 [==============================] - 1s 55us/sample - loss: 0.1040 - mean_squared_logarithmic_error: 0.1040 - val_loss: 0.1262 - val_mean_squared_logarithmic_error: 0.1262\n",
      "Epoch 8/10\n",
      "13600/13600 [==============================] - 1s 55us/sample - loss: 0.1015 - mean_squared_logarithmic_error: 0.1014 - val_loss: 0.1204 - val_mean_squared_logarithmic_error: 0.1220\n",
      "Epoch 9/10\n",
      "13600/13600 [==============================] - 1s 55us/sample - loss: 0.0988 - mean_squared_logarithmic_error: 0.0986 - val_loss: 0.1240 - val_mean_squared_logarithmic_error: 0.1235\n",
      "Epoch 10/10\n",
      "13600/13600 [==============================] - 1s 55us/sample - loss: 0.0972 - mean_squared_logarithmic_error: 0.0971 - val_loss: 0.1104 - val_mean_squared_logarithmic_error: 0.1094\n"
     ]
    }
   ],
   "source": [
    "# loss function\n",
    "msle = MeanSquaredLogarithmicError()\n",
    "model.compile(\n",
    "    loss=msle, \n",
    "    optimizer=Adam(learning_rate=learning_rate), \n",
    "    metrics=[msle]\n",
    ")\n",
    "# train the model\n",
    "history = model.fit(\n",
    "    x_train_scaled.values, \n",
    "    y_train.values, \n",
    "    epochs=10, \n",
    "    batch_size=64,\n",
    "    validation_split=0.2\n",
    ")"
   ]
  },
  {
   "cell_type": "code",
   "execution_count": 10,
   "id": "upset-collins",
   "metadata": {},
   "outputs": [
    {
     "data": {
      "image/png": "[encoded data removed]",
      "text/plain": [
       "<Figure size 432x288 with 1 Axes>"
      ]
     },
     "metadata": {
      "image/png": {
       "height": 261,
       "width": 376
      },
      "needs_background": "light"
     },
     "output_type": "display_data"
    }
   ],
   "source": [
    "def plot_history(history, key):\n",
    "    plt.plot(history.history[key])\n",
    "    plt.plot(history.history['val_'+key])\n",
    "    plt.xlabel(\"Epochs\")\n",
    "    plt.ylabel(key)\n",
    "    plt.legend([key, 'val_'+key])\n",
    "    plt.show()\n",
    "# Plot the history\n",
    "plot_history(history, 'mean_squared_logarithmic_error')"
   ]
  },
  {
   "cell_type": "code",
   "execution_count": 11,
   "id": "funded-watts",
   "metadata": {},
   "outputs": [
    {
     "name": "stderr",
     "output_type": "stream",
     "text": [
      "/home/pnans/.local/lib/python3.8/site-packages/keras/engine/training_v1.py:2079: UserWarning: `Model.state_updates` will be removed in a future version. This property should not be used in TensorFlow 2.0, as `updates` are applied automatically.\n",
      "  updates=self.state_updates,\n"
     ]
    },
    {
     "data": {
      "text/html": [
       "<div>\n",
       "<style scoped>\n",
       "    .dataframe tbody tr th:only-of-type {\n",
       "        vertical-align: middle;\n",
       "    }\n",
       "\n",
       "    .dataframe tbody tr th {\n",
       "        vertical-align: top;\n",
       "    }\n",
       "\n",
       "    .dataframe thead th {\n",
       "        text-align: right;\n",
       "    }\n",
       "</style>\n",
       "<table border=\"1\" class=\"dataframe\">\n",
       "  <thead>\n",
       "    <tr style=\"text-align: right;\">\n",
       "      <th></th>\n",
       "      <th>longitude</th>\n",
       "      <th>latitude</th>\n",
       "      <th>housing_median_age</th>\n",
       "      <th>total_rooms</th>\n",
       "      <th>total_bedrooms</th>\n",
       "      <th>population</th>\n",
       "      <th>households</th>\n",
       "      <th>median_income</th>\n",
       "      <th>prediction</th>\n",
       "    </tr>\n",
       "  </thead>\n",
       "  <tbody>\n",
       "    <tr>\n",
       "      <th>0</th>\n",
       "      <td>-122.05</td>\n",
       "      <td>37.37</td>\n",
       "      <td>27.0</td>\n",
       "      <td>3885.0</td>\n",
       "      <td>661.0</td>\n",
       "      <td>1537.0</td>\n",
       "      <td>606.0</td>\n",
       "      <td>6.6085</td>\n",
       "      <td>350321.65625</td>\n",
       "    </tr>\n",
       "    <tr>\n",
       "      <th>1</th>\n",
       "      <td>-118.30</td>\n",
       "      <td>34.26</td>\n",
       "      <td>43.0</td>\n",
       "      <td>1510.0</td>\n",
       "      <td>310.0</td>\n",
       "      <td>809.0</td>\n",
       "      <td>277.0</td>\n",
       "      <td>3.5990</td>\n",
       "      <td>193577.93750</td>\n",
       "    </tr>\n",
       "    <tr>\n",
       "      <th>2</th>\n",
       "      <td>-117.81</td>\n",
       "      <td>33.78</td>\n",
       "      <td>27.0</td>\n",
       "      <td>3589.0</td>\n",
       "      <td>507.0</td>\n",
       "      <td>1484.0</td>\n",
       "      <td>495.0</td>\n",
       "      <td>5.7934</td>\n",
       "      <td>266459.53125</td>\n",
       "    </tr>\n",
       "    <tr>\n",
       "      <th>3</th>\n",
       "      <td>-118.36</td>\n",
       "      <td>33.82</td>\n",
       "      <td>28.0</td>\n",
       "      <td>67.0</td>\n",
       "      <td>15.0</td>\n",
       "      <td>49.0</td>\n",
       "      <td>11.0</td>\n",
       "      <td>6.1359</td>\n",
       "      <td>333480.71875</td>\n",
       "    </tr>\n",
       "    <tr>\n",
       "      <th>4</th>\n",
       "      <td>-119.67</td>\n",
       "      <td>36.33</td>\n",
       "      <td>19.0</td>\n",
       "      <td>1241.0</td>\n",
       "      <td>244.0</td>\n",
       "      <td>850.0</td>\n",
       "      <td>237.0</td>\n",
       "      <td>2.9375</td>\n",
       "      <td>92273.12500</td>\n",
       "    </tr>\n",
       "    <tr>\n",
       "      <th>...</th>\n",
       "      <td>...</td>\n",
       "      <td>...</td>\n",
       "      <td>...</td>\n",
       "      <td>...</td>\n",
       "      <td>...</td>\n",
       "      <td>...</td>\n",
       "      <td>...</td>\n",
       "      <td>...</td>\n",
       "      <td>...</td>\n",
       "    </tr>\n",
       "    <tr>\n",
       "      <th>2995</th>\n",
       "      <td>-119.86</td>\n",
       "      <td>34.42</td>\n",
       "      <td>23.0</td>\n",
       "      <td>1450.0</td>\n",
       "      <td>642.0</td>\n",
       "      <td>1258.0</td>\n",
       "      <td>607.0</td>\n",
       "      <td>1.1790</td>\n",
       "      <td>206606.25000</td>\n",
       "    </tr>\n",
       "    <tr>\n",
       "      <th>2996</th>\n",
       "      <td>-118.14</td>\n",
       "      <td>34.06</td>\n",
       "      <td>27.0</td>\n",
       "      <td>5257.0</td>\n",
       "      <td>1082.0</td>\n",
       "      <td>3496.0</td>\n",
       "      <td>1036.0</td>\n",
       "      <td>3.3906</td>\n",
       "      <td>150975.15625</td>\n",
       "    </tr>\n",
       "    <tr>\n",
       "      <th>2997</th>\n",
       "      <td>-119.70</td>\n",
       "      <td>36.30</td>\n",
       "      <td>10.0</td>\n",
       "      <td>956.0</td>\n",
       "      <td>201.0</td>\n",
       "      <td>693.0</td>\n",
       "      <td>220.0</td>\n",
       "      <td>2.2895</td>\n",
       "      <td>97271.50000</td>\n",
       "    </tr>\n",
       "    <tr>\n",
       "      <th>2998</th>\n",
       "      <td>-117.12</td>\n",
       "      <td>34.10</td>\n",
       "      <td>40.0</td>\n",
       "      <td>96.0</td>\n",
       "      <td>14.0</td>\n",
       "      <td>46.0</td>\n",
       "      <td>14.0</td>\n",
       "      <td>3.2708</td>\n",
       "      <td>126074.65625</td>\n",
       "    </tr>\n",
       "    <tr>\n",
       "      <th>2999</th>\n",
       "      <td>-119.63</td>\n",
       "      <td>34.42</td>\n",
       "      <td>42.0</td>\n",
       "      <td>1765.0</td>\n",
       "      <td>263.0</td>\n",
       "      <td>753.0</td>\n",
       "      <td>260.0</td>\n",
       "      <td>8.5608</td>\n",
       "      <td>506042.21875</td>\n",
       "    </tr>\n",
       "  </tbody>\n",
       "</table>\n",
       "<p>3000 rows × 9 columns</p>\n",
       "</div>"
      ],
      "text/plain": [
       "      longitude  latitude  housing_median_age  total_rooms  total_bedrooms  \\\n",
       "0       -122.05     37.37                27.0       3885.0           661.0   \n",
       "1       -118.30     34.26                43.0       1510.0           310.0   \n",
       "2       -117.81     33.78                27.0       3589.0           507.0   \n",
       "3       -118.36     33.82                28.0         67.0            15.0   \n",
       "4       -119.67     36.33                19.0       1241.0           244.0   \n",
       "...         ...       ...                 ...          ...             ...   \n",
       "2995    -119.86     34.42                23.0       1450.0           642.0   \n",
       "2996    -118.14     34.06                27.0       5257.0          1082.0   \n",
       "2997    -119.70     36.30                10.0        956.0           201.0   \n",
       "2998    -117.12     34.10                40.0         96.0            14.0   \n",
       "2999    -119.63     34.42                42.0       1765.0           263.0   \n",
       "\n",
       "      population  households  median_income    prediction  \n",
       "0         1537.0       606.0         6.6085  350321.65625  \n",
       "1          809.0       277.0         3.5990  193577.93750  \n",
       "2         1484.0       495.0         5.7934  266459.53125  \n",
       "3           49.0        11.0         6.1359  333480.71875  \n",
       "4          850.0       237.0         2.9375   92273.12500  \n",
       "...          ...         ...            ...           ...  \n",
       "2995      1258.0       607.0         1.1790  206606.25000  \n",
       "2996      3496.0      1036.0         3.3906  150975.15625  \n",
       "2997       693.0       220.0         2.2895   97271.50000  \n",
       "2998        46.0        14.0         3.2708  126074.65625  \n",
       "2999       753.0       260.0         8.5608  506042.21875  \n",
       "\n",
       "[3000 rows x 9 columns]"
      ]
     },
     "execution_count": 11,
     "metadata": {},
     "output_type": "execute_result"
    }
   ],
   "source": [
    "x_test['prediction'] = model.predict(x_test_scaled)\n",
    "x_test"
   ]
  },
  {
   "cell_type": "code",
   "execution_count": 12,
   "id": "joint-morning",
   "metadata": {},
   "outputs": [],
   "source": [
    "#y_train.reshape(17000,1)\n",
    "#y_train.reshape((17000, 1))\n",
    "\n",
    "arr = y_train.values\n",
    "y_train = arr.reshape((17000, 1))\n",
    "\n",
    "\n",
    "arr = y_test.values\n",
    "y_test = arr.reshape((3000, 1))"
   ]
  },
  {
   "cell_type": "code",
   "execution_count": 13,
   "id": "immediate-scottish",
   "metadata": {},
   "outputs": [],
   "source": [
    "x_train_scaled = x_train_scaled.to_numpy()\n",
    "x_test_scaled = x_test_scaled.to_numpy()"
   ]
  },
  {
   "cell_type": "code",
   "execution_count": 14,
   "id": "obvious-musician",
   "metadata": {},
   "outputs": [],
   "source": [
    "x_train_temp = x_train_scaled[1:10]\n",
    "x_test_temp = x_test_scaled[1:10]\n",
    "y_train_temp = y_train[1:10]\n",
    "y_test_temp = y_test[1:10]"
   ]
  },
  {
   "cell_type": "code",
   "execution_count": 17,
   "id": "monthly-kruger",
   "metadata": {},
   "outputs": [
    {
     "name": "stdout",
     "output_type": "stream",
     "text": [
      "Init-Data:  Tensor(\"Placeholder:0\", shape=(?, 8), dtype=float32)\n",
      "Init-Target:  Tensor(\"Placeholder_1:0\", shape=(?, 1), dtype=float32)\n",
      "Prediction-data_dim:  8\n",
      "Params-data_dim:  8\n",
      "Params-target_dim:  1\n",
      "Params-total_dim:  9\n",
      "Prediction-W:  Tensor(\"Reshape:0\", shape=(8, 1), dtype=float32)\n",
      "Prediction-b:  Tensor(\"strided_slice_1:0\", shape=(), dtype=float32)\n",
      "error-self._error:  Tensor(\"mean_squared_error/value:0\", shape=(), dtype=float32)\n",
      "optimize-self._optimize:  name: \"GradientDescent\"\n",
      "op: \"NoOp\"\n",
      "input: \"^GradientDescent/update_params/ApplyGradientDescent\"\n",
      "\n",
      "gradients-self._gradients [<tf.Tensor 'gradients_1/AddN:0' shape=(9,) dtype=float32>]\n",
      "hessians-self._hessians:  [<tf.Tensor 'Reshape_2:0' shape=(9, 9) dtype=float32>]\n"
     ]
    }
   ],
   "source": [
    "EPOCHS = 100\n",
    "R = 1\n",
    "num_train_points = x_train_temp.shape[0]\n",
    "\n",
    "tf.reset_default_graph()\n",
    "#tf.compat.v1.reset_default_graph()\n",
    "\n",
    "x = tf.placeholder(dtype=tf.float32, shape=(None, 8))\n",
    "y_true = tf.placeholder(dtype=tf.float32, shape=(None, 1))\n",
    "\n",
    "model = LinearModel(x, y_true)\n",
    "train_op = model.optimize\n",
    "loss_op = model.error\n",
    "param_op = model.params\n",
    "gradient_op = model.gradients\n",
    "hessian_op = model.hessians"
   ]
  },
  {
   "cell_type": "code",
   "execution_count": 18,
   "id": "governing-canvas",
   "metadata": {},
   "outputs": [
    {
     "name": "stdout",
     "output_type": "stream",
     "text": [
      "init_op:  name: \"init\"\n",
      "op: \"NoOp\"\n",
      "input: \"^params/Assign\"\n",
      "\n",
      "x, y_true:  Tensor(\"Placeholder:0\", shape=(?, 8), dtype=float32) Tensor(\"Placeholder_1:0\", shape=(?, 1), dtype=float32)\n",
      "s_test_j:  [-3335817.61583582 -3249835.06114832 -3287332.20958582 -3097218.50646082\n",
      " -3049875.55333582 -3128621.67833582 -3060318.52208582 -3378518.77208582\n",
      " -3972882.77208582]\n",
      "s_test_j:  [87509815.74902996 87638789.58106121 87582543.85840496 87867714.41309246\n",
      " 87938728.84277996 87820609.65527996 87923064.38965496 87445764.01465496\n",
      " 86554218.01465496]\n",
      "s_test_j:  [-1.87049435e+09 -1.87032239e+09 -1.87039738e+09 -1.87001715e+09\n",
      " -1.86992247e+09 -1.87007996e+09 -1.86994335e+09 -1.87057975e+09\n",
      " -1.87176848e+09]\n",
      "s_test_j:  [3.95672030e+10 3.95674180e+10 3.95673242e+10 3.95677995e+10\n",
      " 3.95679179e+10 3.95677210e+10 3.95678918e+10 3.95670963e+10\n",
      " 3.95656104e+10]\n",
      "s_test_j:  [-7.42179343e+11 -7.42179085e+11 -7.42179197e+11 -7.42178627e+11\n",
      " -7.42178485e+11 -7.42178721e+11 -7.42178516e+11 -7.42179471e+11\n",
      " -7.42181254e+11]\n",
      "s_test_j:  [1.24922623e+13 1.24922626e+13 1.24922625e+13 1.24922632e+13\n",
      " 1.24922633e+13 1.24922630e+13 1.24922633e+13 1.24922622e+13\n",
      " 1.24922601e+13]\n",
      "s_test_j:  [-3.04381084e+14 -3.04381084e+14 -3.04381084e+14 -3.04381083e+14\n",
      " -3.04381083e+14 -3.04381083e+14 -3.04381083e+14 -3.04381084e+14\n",
      " -3.04381087e+14]\n",
      "s_test_j:  [9.77119137e+15 9.77119137e+15 9.77119137e+15 9.77119137e+15\n",
      " 9.77119137e+15 9.77119137e+15 9.77119137e+15 9.77119137e+15\n",
      " 9.77119137e+15]\n",
      "s_test_j:  [-2.09311843e+17 -2.09311843e+17 -2.09311843e+17 -2.09311843e+17\n",
      " -2.09311843e+17 -2.09311843e+17 -2.09311843e+17 -2.09311843e+17\n",
      " -2.09311843e+17]\n",
      "s_test:  [-2.09311843e+17 -2.09311843e+17 -2.09311843e+17 -2.09311843e+17\n",
      " -2.09311843e+17 -2.09311843e+17 -2.09311843e+17 -2.09311843e+17\n",
      " -2.09311843e+17]\n",
      "grad_param:  [-5507.6895  1243.2671  1652.3099 -4980.7676 -7006.0195   567.9202\n",
      "   215.5833  2345.4663 -2168.75  ]\n",
      "importance_last:  -2.854737181031588e+21\n",
      "grad_param:  [-41766.305  15159.371  15415.673  14774.294  14514.689  15994.659\n",
      "  16729.604  19590.045 -16742.125]\n",
      "importance_last:  1.1233746771989586e+22\n",
      "grad_param:  [ 39895.59   -14884.267  -18574.08    -8399.706   -7695.3438 -12768.03\n",
      " -11469.765   -5810.412   16024.281 ]\n",
      "importance_last:  -4.9568670522386e+21\n",
      "grad_param:  [ 49880.902 -19265.775 -13672.286 -10934.006 -10144.256 -14061.119\n",
      " -12464.702 -20564.951  20034.938]\n",
      "importance_last:  -6.528699240974171e+21\n",
      "grad_param:  [-24873.06      9345.117     -326.59924   5770.8516    7206.1045\n",
      "   6615.736     6826.7764    2831.834   -10010.453  ]\n",
      "importance_last:  7.087940573911987e+20\n",
      "grad_param:  [-54594.098   20717.287    6265.8374  -2654.279   -7328.8843  -7875.6885\n",
      "  -7530.195   13896.211  -21972.031 ]\n",
      "importance_last:  -1.2783896635351184e+22\n",
      "grad_param:  [13882.488  -2083.02    5520.158  -4704.1064 -4933.268  -5143.609\n",
      " -4997.2646 -6382.311   5598.4062]\n",
      "importance_last:  -6.786991689877604e+20\n",
      "grad_param:  [24776.951  -9421.23    4295.2344  9833.475  15067.361  14837.12\n",
      " 14416.41   -8930.267   9991.828 ]\n",
      "importance_last:  1.5670525201177683e+22\n",
      "grad_param:  [-2045.6772    307.5655  -1143.4474    434.82217   451.88422   462.76248\n",
      "   494.93497   733.3433   -826.625  ]\n",
      "importance_last:  -2.3661384763420944e+20\n",
      "Loss: [3.05770080e+10 4.03629977e+10 2.69871286e+10 3.93894417e+10\n",
      " 3.95872020e+10 3.95575097e+10 3.99052862e+10 3.64241191e+10]\n"
     ]
    }
   ],
   "source": [
    "init_op = tf.global_variables_initializer()\n",
    "\n",
    "with tf.Session() as sess:\n",
    "    sess.run(init_op)\n",
    "    print(\"init_op: \",init_op)    \n",
    "    for e in  range(EPOCHS):\n",
    "        if e == 0: print(\"x, y_true: \", x, y_true)\n",
    "        fd = {x: x_train_temp, y_true: y_train_temp}\n",
    "        _, loss_epoch = sess.run([train_op, loss_op], feed_dict = fd)\n",
    "    p = sess.run(param_op)\n",
    "    s_test = 0\n",
    "    for r in  range(R):\n",
    "        v = sess.run(gradient_op, feed_dict = {x:x_test_temp, y_true:y_test_temp})[0]\n",
    "        s_test_j = v\n",
    "        # print(\"r: \",r, \" s_test_j: \",s_test_j, \"\\n\")\n",
    "        for j in  range(num_train_points):\n",
    "            fd = {x:x_train_temp[j].reshape((1,-1)), y_true:y_train_temp[j].reshape((-1,1))}\n",
    "            hess_param = sess.run(hessian_op, feed_dict = fd)[0]\n",
    "            hess_param = np.diag(hess_param)\n",
    "            # print(\"hess_param: \",hess_param)\n",
    "            s_test_j = v + np.matmul((np.identity(9)-hess_param),s_test_j)\n",
    "            print(\"s_test_j: \",s_test_j)\n",
    "        s_test += s_test_j\n",
    "    s_test = s_test/R\n",
    "    print(\"s_test: \",s_test)\n",
    "    importance = []\n",
    "    for j in  range(num_train_points):\n",
    "        fd = {x:x_train_temp[j].reshape((1,-1)), y_true:y_train_temp[j].reshape((-1,1))}\n",
    "        grad_param = sess.run(gradient_op, feed_dict = fd)[0]\n",
    "        print(\"grad_param: \", grad_param)\n",
    "        importance.append(-np.matmul(s_test,grad_param))\n",
    "        print(\"importance_last: \", importance[-1])\n",
    "\n",
    "importance = np.asarray(importance)\n",
    "print('Loss: {}'.format(((p[0]*x_test_temp+p[1]-y_test_temp)**2)[0]))"
   ]
  },
  {
   "cell_type": "code",
   "execution_count": 22,
   "id": "endangered-single",
   "metadata": {},
   "outputs": [
    {
     "data": {
      "text/plain": [
       "array([-2.85473718e+21,  1.12337468e+22, -4.95686705e+21, -6.52869924e+21,\n",
       "        7.08794057e+20, -1.27838966e+22, -6.78699169e+20,  1.56705252e+22,\n",
       "       -2.36613848e+20])"
      ]
     },
     "execution_count": 22,
     "metadata": {},
     "output_type": "execute_result"
    }
   ],
   "source": [
    "importance"
   ]
  },
  {
   "cell_type": "code",
   "execution_count": 30,
   "id": "swiss-confidentiality",
   "metadata": {},
   "outputs": [],
   "source": [
    "import os\n",
    "\n",
    "data_path = os.path.join(\"/home/pnans/Documents/IIITD-2021/2022/Code/GraN-DAG-master/data/data_p10_e10_n1000_GP\", \"data1.npy\")\n",
    "data = np.load(data_path)"
   ]
  },
  {
   "cell_type": "code",
   "execution_count": 32,
   "id": "demographic-roberts",
   "metadata": {},
   "outputs": [
    {
     "data": {
      "text/plain": [
       "(1000, 10)"
      ]
     },
     "execution_count": 32,
     "metadata": {},
     "output_type": "execute_result"
    }
   ],
   "source": [
    "data.shape"
   ]
  },
  {
   "cell_type": "code",
   "execution_count": null,
   "id": "willing-recommendation",
   "metadata": {},
   "outputs": [],
   "source": []
  }
 ],
 "metadata": {
  "kernelspec": {
   "display_name": "Python 3 (ipykernel)",
   "language": "python",
   "name": "python3"
  },
  "language_info": {
   "codemirror_mode": {
    "name": "ipython",
    "version": 3
   },
   "file_extension": ".py",
   "mimetype": "text/x-python",
   "name": "python",
   "nbconvert_exporter": "python",
   "pygments_lexer": "ipython3",
   "version": "3.8.8"
  }
 },
 "nbformat": 4,
 "nbformat_minor": 5
}
